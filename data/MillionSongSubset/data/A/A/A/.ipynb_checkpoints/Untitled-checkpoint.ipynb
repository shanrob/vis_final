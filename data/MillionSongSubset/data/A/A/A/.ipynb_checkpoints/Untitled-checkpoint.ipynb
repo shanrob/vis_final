{
 "cells": [
  {
   "cell_type": "code",
   "execution_count": null,
   "metadata": {},
   "outputs": [],
   "source": [
    "import hdf5_getters\n",
    "h5 = hdf5_getters.open_h5_file_read(TRAAAMQ128F1460CD3.h5)\n",
    "duration = hdf5_getters.get_duration(h5)\n",
    "h5.close()\n",
    "\n",
    "http://localhost:8888/edit/Desktop/COMP177/final_project/vis_final/data/MillionSongSubset/data/A/A/A/TRAAAMQ128F1460CD3.h5"
   ]
  }
 ],
 "metadata": {
  "kernelspec": {
   "display_name": "Python 3",
   "language": "python",
   "name": "python3"
  },
  "language_info": {
   "codemirror_mode": {
    "name": "ipython",
    "version": 3
   },
   "file_extension": ".py",
   "mimetype": "text/x-python",
   "name": "python",
   "nbconvert_exporter": "python",
   "pygments_lexer": "ipython3",
   "version": "3.6.5"
  }
 },
 "nbformat": 4,
 "nbformat_minor": 2
}
